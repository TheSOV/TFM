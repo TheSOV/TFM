{
 "cells": [
  {
   "cell_type": "code",
   "execution_count": 1,
   "id": "c7446d55",
   "metadata": {},
   "outputs": [],
   "source": [
    "%load_ext autoreload\n",
    "%autoreload 2"
   ]
  },
  {
   "cell_type": "code",
   "execution_count": 3,
   "id": "e6cfb4d1",
   "metadata": {},
   "outputs": [
    {
     "name": "stderr",
     "output_type": "stream",
     "text": [
      "INFO:src.embeddings.late_chunking:Initialized LateChunkingHelper: device=cuda, max_chunk_chars=2048\n",
      "INFO:sentence_transformers.SentenceTransformer:Load pretrained SentenceTransformer: jinaai/jina-embeddings-v3\n",
      "WARNING:transformers_modules.jinaai.xlm-roberta-flash-implementation.2b6bc3f30750b3a9648fe9b63448c09920efe9be.modeling_xlm_roberta:flash_attn is not installed. Using PyTorch native attention implementation.\n",
      "WARNING:transformers_modules.jinaai.xlm-roberta-flash-implementation.2b6bc3f30750b3a9648fe9b63448c09920efe9be.modeling_xlm_roberta:flash_attn is not installed. Using PyTorch native attention implementation.\n",
      "WARNING:transformers_modules.jinaai.xlm-roberta-flash-implementation.2b6bc3f30750b3a9648fe9b63448c09920efe9be.modeling_xlm_roberta:flash_attn is not installed. Using PyTorch native attention implementation.\n",
      "WARNING:transformers_modules.jinaai.xlm-roberta-flash-implementation.2b6bc3f30750b3a9648fe9b63448c09920efe9be.modeling_xlm_roberta:flash_attn is not installed. Using PyTorch native attention implementation.\n",
      "WARNING:transformers_modules.jinaai.xlm-roberta-flash-implementation.2b6bc3f30750b3a9648fe9b63448c09920efe9be.modeling_xlm_roberta:flash_attn is not installed. Using PyTorch native attention implementation.\n",
      "WARNING:transformers_modules.jinaai.xlm-roberta-flash-implementation.2b6bc3f30750b3a9648fe9b63448c09920efe9be.modeling_xlm_roberta:flash_attn is not installed. Using PyTorch native attention implementation.\n",
      "WARNING:transformers_modules.jinaai.xlm-roberta-flash-implementation.2b6bc3f30750b3a9648fe9b63448c09920efe9be.modeling_xlm_roberta:flash_attn is not installed. Using PyTorch native attention implementation.\n",
      "WARNING:transformers_modules.jinaai.xlm-roberta-flash-implementation.2b6bc3f30750b3a9648fe9b63448c09920efe9be.modeling_xlm_roberta:flash_attn is not installed. Using PyTorch native attention implementation.\n",
      "WARNING:transformers_modules.jinaai.xlm-roberta-flash-implementation.2b6bc3f30750b3a9648fe9b63448c09920efe9be.modeling_xlm_roberta:flash_attn is not installed. Using PyTorch native attention implementation.\n",
      "WARNING:transformers_modules.jinaai.xlm-roberta-flash-implementation.2b6bc3f30750b3a9648fe9b63448c09920efe9be.modeling_xlm_roberta:flash_attn is not installed. Using PyTorch native attention implementation.\n",
      "WARNING:transformers_modules.jinaai.xlm-roberta-flash-implementation.2b6bc3f30750b3a9648fe9b63448c09920efe9be.modeling_xlm_roberta:flash_attn is not installed. Using PyTorch native attention implementation.\n",
      "WARNING:transformers_modules.jinaai.xlm-roberta-flash-implementation.2b6bc3f30750b3a9648fe9b63448c09920efe9be.modeling_xlm_roberta:flash_attn is not installed. Using PyTorch native attention implementation.\n",
      "WARNING:transformers_modules.jinaai.xlm-roberta-flash-implementation.2b6bc3f30750b3a9648fe9b63448c09920efe9be.modeling_xlm_roberta:flash_attn is not installed. Using PyTorch native attention implementation.\n",
      "WARNING:transformers_modules.jinaai.xlm-roberta-flash-implementation.2b6bc3f30750b3a9648fe9b63448c09920efe9be.modeling_xlm_roberta:flash_attn is not installed. Using PyTorch native attention implementation.\n",
      "WARNING:transformers_modules.jinaai.xlm-roberta-flash-implementation.2b6bc3f30750b3a9648fe9b63448c09920efe9be.modeling_xlm_roberta:flash_attn is not installed. Using PyTorch native attention implementation.\n",
      "WARNING:transformers_modules.jinaai.xlm-roberta-flash-implementation.2b6bc3f30750b3a9648fe9b63448c09920efe9be.modeling_xlm_roberta:flash_attn is not installed. Using PyTorch native attention implementation.\n",
      "WARNING:transformers_modules.jinaai.xlm-roberta-flash-implementation.2b6bc3f30750b3a9648fe9b63448c09920efe9be.modeling_xlm_roberta:flash_attn is not installed. Using PyTorch native attention implementation.\n",
      "WARNING:transformers_modules.jinaai.xlm-roberta-flash-implementation.2b6bc3f30750b3a9648fe9b63448c09920efe9be.modeling_xlm_roberta:flash_attn is not installed. Using PyTorch native attention implementation.\n",
      "WARNING:transformers_modules.jinaai.xlm-roberta-flash-implementation.2b6bc3f30750b3a9648fe9b63448c09920efe9be.modeling_xlm_roberta:flash_attn is not installed. Using PyTorch native attention implementation.\n",
      "WARNING:transformers_modules.jinaai.xlm-roberta-flash-implementation.2b6bc3f30750b3a9648fe9b63448c09920efe9be.modeling_xlm_roberta:flash_attn is not installed. Using PyTorch native attention implementation.\n",
      "WARNING:transformers_modules.jinaai.xlm-roberta-flash-implementation.2b6bc3f30750b3a9648fe9b63448c09920efe9be.modeling_xlm_roberta:flash_attn is not installed. Using PyTorch native attention implementation.\n",
      "WARNING:transformers_modules.jinaai.xlm-roberta-flash-implementation.2b6bc3f30750b3a9648fe9b63448c09920efe9be.modeling_xlm_roberta:flash_attn is not installed. Using PyTorch native attention implementation.\n",
      "WARNING:transformers_modules.jinaai.xlm-roberta-flash-implementation.2b6bc3f30750b3a9648fe9b63448c09920efe9be.modeling_xlm_roberta:flash_attn is not installed. Using PyTorch native attention implementation.\n",
      "WARNING:transformers_modules.jinaai.xlm-roberta-flash-implementation.2b6bc3f30750b3a9648fe9b63448c09920efe9be.modeling_xlm_roberta:flash_attn is not installed. Using PyTorch native attention implementation.\n",
      "WARNING:transformers_modules.jinaai.xlm-roberta-flash-implementation.2b6bc3f30750b3a9648fe9b63448c09920efe9be.modeling_xlm_roberta:flash_attn is not installed. Using PyTorch native attention implementation.\n",
      "INFO:sentence_transformers.SentenceTransformer:5 prompts are loaded, with the keys: ['retrieval.query', 'retrieval.passage', 'separation', 'classification', 'text-matching']\n"
     ]
    }
   ],
   "source": [
    "from dotenv import load_dotenv\n",
    "load_dotenv()                      # 1️⃣  make env-vars visible\n",
    "\n",
    "from src.containers import Container   # 2️⃣  class body reads env once\n",
    "\n",
    "import logging\n",
    "logging.basicConfig(level=logging.INFO)\n",
    "\n",
    "container = Container()            # 3️⃣  build the container\n",
    "\n",
    "weaviate_helper      = container.weaviate_helper()\n",
    "late_chunking_helper = container.late_chunking_helper()\n"
   ]
  },
  {
   "cell_type": "code",
   "execution_count": 26,
   "id": "6c1e5afd",
   "metadata": {},
   "outputs": [
    {
     "name": "stderr",
     "output_type": "stream",
     "text": [
      "INFO:httpx:HTTP Request: GET http://127.0.0.1:8080/v1/meta \"HTTP/1.1 200 OK\"\n",
      "INFO:httpx:HTTP Request: GET https://pypi.org/pypi/weaviate-client/json \"HTTP/1.1 200 OK\"\n",
      "INFO:httpx:HTTP Request: DELETE http://127.0.0.1:8080/v1/schema/Test \"HTTP/1.1 200 OK\"\n",
      "INFO:httpx:HTTP Request: GET http://127.0.0.1:8080/v1/meta \"HTTP/1.1 200 OK\"\n",
      "INFO:httpx:HTTP Request: GET https://pypi.org/pypi/weaviate-client/json \"HTTP/1.1 200 OK\"\n",
      "INFO:httpx:HTTP Request: GET http://127.0.0.1:8080/v1/schema/Test \"HTTP/1.1 404 Not Found\"\n",
      "INFO:httpx:HTTP Request: POST http://127.0.0.1:8080/v1/schema \"HTTP/1.1 200 OK\"\n",
      "INFO:src.database.weviate:Collection 'test' created.\n"
     ]
    }
   ],
   "source": [
    "with weaviate_helper.connect() as client:\n",
    "    client.collections.delete(name=\"test\")\n",
    "\n",
    "weaviate_helper.create_collection(collection_name=\"test\", description=\"test description\")"
   ]
  },
  {
   "cell_type": "code",
   "execution_count": 27,
   "id": "c8718c7e",
   "metadata": {},
   "outputs": [
    {
     "name": "stderr",
     "output_type": "stream",
     "text": [
      "INFO:src.embeddings.late_chunking:chunk_file: processing path=knowledge/kubernetes/website-main/content/en/docs/reference/kubectl/quick-reference.md\n",
      "INFO:src.embeddings.late_chunking:generate_late_chunking_embeddings: docs=23\n",
      "Batches: 100%|██████████| 1/1 [00:00<00:00,  1.05it/s]\n",
      "Batches: 100%|██████████| 1/1 [00:00<00:00,  7.10it/s]\n",
      "Batches: 100%|██████████| 1/1 [00:00<00:00,  6.97it/s]\n",
      "Batches: 100%|██████████| 1/1 [00:00<00:00,  7.02it/s]\n",
      "Batches: 100%|██████████| 1/1 [00:00<00:00,  6.94it/s]\n",
      "Batches: 100%|██████████| 1/1 [00:00<00:00,  7.04it/s]\n",
      "Batches: 100%|██████████| 1/1 [00:00<00:00,  6.62it/s]\n",
      "Batches: 100%|██████████| 1/1 [00:00<00:00,  7.02it/s]\n",
      "Batches: 100%|██████████| 1/1 [00:00<00:00,  6.95it/s]\n",
      "Batches: 100%|██████████| 1/1 [00:00<00:00,  6.99it/s]\n",
      "Batches: 100%|██████████| 1/1 [00:00<00:00,  6.95it/s]\n",
      "Batches: 100%|██████████| 1/1 [00:00<00:00,  7.15it/s]\n",
      "Batches: 100%|██████████| 1/1 [00:00<00:00,  6.83it/s]\n",
      "Batches: 100%|██████████| 1/1 [00:00<00:00,  6.95it/s]\n",
      "Batches: 100%|██████████| 1/1 [00:00<00:00,  6.88it/s]\n",
      "Batches: 100%|██████████| 1/1 [00:00<00:00,  7.01it/s]\n",
      "Batches: 100%|██████████| 1/1 [00:00<00:00,  6.88it/s]\n",
      "Batches: 100%|██████████| 1/1 [00:00<00:00,  6.92it/s]\n",
      "Batches: 100%|██████████| 1/1 [00:00<00:00,  6.37it/s]\n",
      "Batches: 100%|██████████| 1/1 [00:00<00:00,  6.28it/s]\n",
      "Batches: 100%|██████████| 1/1 [00:00<00:00,  6.37it/s]\n",
      "Batches: 100%|██████████| 1/1 [00:00<00:00,  6.57it/s]\n",
      "Batches: 100%|██████████| 1/1 [00:00<00:00,  6.35it/s]\n",
      "Batches: 100%|██████████| 1/1 [00:00<00:00,  6.41it/s]\n",
      "INFO:src.embeddings.late_chunking:generate_late_chunking_embeddings: completed embeddings for 23 docs\n"
     ]
    }
   ],
   "source": [
    "docs, canonical_doc = late_chunking_helper.chunk_file(\n",
    "    path=\"knowledge/kubernetes/website-main/content/en/docs/reference/kubectl/quick-reference.md\",\n",
    ")\n",
    "docs = late_chunking_helper.generate_late_chunking_embeddings(docs, canonical_doc)"
   ]
  },
  {
   "cell_type": "code",
   "execution_count": 29,
   "id": "3e9813ff",
   "metadata": {},
   "outputs": [
    {
     "name": "stderr",
     "output_type": "stream",
     "text": [
      "INFO:httpx:HTTP Request: GET http://127.0.0.1:8080/v1/meta \"HTTP/1.1 200 OK\"\n",
      "INFO:httpx:HTTP Request: GET https://pypi.org/pypi/weaviate-client/json \"HTTP/1.1 200 OK\"\n",
      "INFO:httpx:HTTP Request: GET http://127.0.0.1:8080/v1/schema/Test \"HTTP/1.1 200 OK\"\n"
     ]
    }
   ],
   "source": [
    "weaviate_helper.batch_insert(docs, collection_name=\"test\")"
   ]
  },
  {
   "cell_type": "code",
   "execution_count": 30,
   "id": "c73f37c9",
   "metadata": {},
   "outputs": [
    {
     "name": "stderr",
     "output_type": "stream",
     "text": [
      "INFO:src.embeddings.late_chunking:generate_query_embedding: query='how it is created a secret with several keys?'\n",
      "Batches: 100%|██████████| 1/1 [00:00<00:00,  3.40it/s]\n",
      "INFO:httpx:HTTP Request: GET http://127.0.0.1:8080/v1/meta \"HTTP/1.1 200 OK\"\n",
      "INFO:httpx:HTTP Request: GET https://pypi.org/pypi/weaviate-client/json \"HTTP/1.1 200 OK\"\n",
      "INFO:httpx:HTTP Request: GET http://127.0.0.1:8080/v1/schema/Test \"HTTP/1.1 200 OK\"\n"
     ]
    },
    {
     "data": {
      "text/plain": [
       "23"
      ]
     },
     "execution_count": 30,
     "metadata": {},
     "output_type": "execute_result"
    }
   ],
   "source": [
    "query = \"how it is created a secret with several keys?\"\n",
    "query_embedding = late_chunking_helper.generate_query_embedding(query)\n",
    "rag_results = weaviate_helper.rag_query(collection_name=\"test\", query_embedding=query_embedding, limit=100)\n",
    "rag_results = [rag_result.properties for rag_result in rag_results]\n",
    "len(rag_results)\n"
   ]
  },
  {
   "cell_type": "code",
   "execution_count": 31,
   "id": "8bbc2fe1",
   "metadata": {},
   "outputs": [
    {
     "name": "stderr",
     "output_type": "stream",
     "text": [
      "INFO:src.embeddings.late_chunking:re_rank: 23 docs, top_k=None\n",
      "Batches: 100%|██████████| 1/1 [00:00<00:00,  3.09it/s]\n",
      "Batches: 100%|██████████| 1/1 [00:00<00:00,  6.95it/s]\n",
      "Batches: 100%|██████████| 1/1 [00:00<00:00,  6.54it/s]\n",
      "Batches: 100%|██████████| 1/1 [00:00<00:00,  6.58it/s]\n",
      "Batches: 100%|██████████| 1/1 [00:00<00:00,  6.55it/s]\n",
      "Batches: 100%|██████████| 1/1 [00:00<00:00,  6.75it/s]\n",
      "Batches: 100%|██████████| 1/1 [00:00<00:00,  6.63it/s]\n",
      "Batches: 100%|██████████| 1/1 [00:00<00:00,  6.73it/s]\n",
      "Batches: 100%|██████████| 1/1 [00:00<00:00,  6.83it/s]\n",
      "Batches: 100%|██████████| 1/1 [00:00<00:00,  6.58it/s]\n",
      "Batches: 100%|██████████| 1/1 [00:00<00:00,  6.65it/s]\n",
      "Batches: 100%|██████████| 1/1 [00:00<00:00,  6.65it/s]\n",
      "Batches: 100%|██████████| 1/1 [00:00<00:00,  6.54it/s]\n",
      "Batches: 100%|██████████| 1/1 [00:00<00:00,  6.58it/s]\n",
      "Batches: 100%|██████████| 1/1 [00:00<00:00,  6.54it/s]\n",
      "Batches: 100%|██████████| 1/1 [00:00<00:00,  6.52it/s]\n",
      "Batches: 100%|██████████| 1/1 [00:00<00:00,  6.27it/s]\n",
      "Batches: 100%|██████████| 1/1 [00:00<00:00,  6.26it/s]\n",
      "Batches: 100%|██████████| 1/1 [00:00<00:00,  6.12it/s]\n",
      "Batches: 100%|██████████| 1/1 [00:00<00:00,  6.60it/s]\n",
      "Batches: 100%|██████████| 1/1 [00:00<00:00,  6.27it/s]\n",
      "Batches: 100%|██████████| 1/1 [00:00<00:00,  6.31it/s]\n",
      "Batches: 100%|██████████| 1/1 [00:00<00:00,  6.30it/s]\n",
      "Batches: 100%|██████████| 1/1 [00:00<00:00,  6.31it/s]\n",
      "INFO:src.embeddings.late_chunking:re_rank: returning 23 ranked docs\n"
     ]
    },
    {
     "data": {
      "text/plain": [
       "[({'content': '## Creating objects  \\nKubernetes manifests can be defined in YAML or JSON. The file extension `.yaml`,\\n`.yml`, and `.json` can be used.  \\n```bash\\nkubectl apply -f ./my-manifest.yaml                 # create resource(s)\\nkubectl apply -f ./my1.yaml -f ./my2.yaml           # create from multiple files\\nkubectl apply -f ./dir                              # create resource(s) in all manifest files in dir\\nkubectl apply -f https://example.com/manifest.yaml  # create resource(s) from url (Note: this is an example domain and does not contain a valid manifest)\\nkubectl create deployment nginx --image=nginx       # start a single instance of nginx\\n\\n# create a Job which prints \"Hello World\"\\nkubectl create job hello --image=busybox:1.28 -- echo \"Hello World\"\\n\\n# create a CronJob that prints \"Hello World\" every minute\\nkubectl create cronjob hello --image=busybox:1.28   --schedule=\"*/1 * * * *\" -- echo \"Hello World\"\\n\\nkubectl explain pods                           # get the documentation for pod manifests\\n\\n# Create multiple YAML objects from stdin\\nkubectl apply -f - <<EOF\\napiVersion: v1\\nkind: Pod\\nmetadata:\\nname: busybox-sleep\\nspec:\\ncontainers:\\n- name: busybox\\nimage: busybox:1.28\\nargs:\\n- sleep\\n- \"1000000\"\\n---\\napiVersion: v1\\nkind: Pod\\nmetadata:\\nname: busybox-sleep-less\\nspec:\\ncontainers:\\n- name: busybox\\nimage: busybox:1.28\\nargs:\\n- sleep\\n- \"1000\"\\nEOF\\n\\n# Create a secret with several keys\\nkubectl apply -f - <<EOF\\napiVersion: v1\\nkind: Secret\\nmetadata:\\nname: mysecret\\ntype: Opaque\\ndata:\\npassword: $(echo -n \"s33msi4\" | base64 -w0)\\nusername: $(echo -n \"jane\" | base64 -w0)\\nEOF\\n\\n```',\n",
       "   'filename': 'knowledge/kubernetes/website-main/content/en/docs/reference/kubectl/quick-reference.md',\n",
       "   'chunk': '6/23',\n",
       "   'subchunk': '1/1'},\n",
       "  0.6640625),\n",
       " ({'content': '## Patching resources  \\n```bash\\n# Partially update a node\\nkubectl patch node k8s-node-1 -p \\'{\"spec\":{\"unschedulable\":true}}\\'\\n\\n# Update a container\\'s image; spec.containers[*].name is required because it\\'s a merge key\\nkubectl patch pod valid-pod -p \\'{\"spec\":{\"containers\":[{\"name\":\"kubernetes-serve-hostname\",\"image\":\"new image\"}]}}\\'\\n\\n# Update a container\\'s image using a json patch with positional arrays\\nkubectl patch pod valid-pod --type=\\'json\\' -p=\\'[{\"op\": \"replace\", \"path\": \"/spec/containers/0/image\", \"value\":\"new image\"}]\\'\\n\\n# Disable a deployment livenessProbe using a json patch with positional arrays\\nkubectl patch deployment valid-deployment  --type json   -p=\\'[{\"op\": \"remove\", \"path\": \"/spec/template/spec/containers/0/livenessProbe\"}]\\'\\n\\n# Add a new element to a positional array\\nkubectl patch sa default --type=\\'json\\' -p=\\'[{\"op\": \"add\", \"path\": \"/secrets/1\", \"value\": {\"name\": \"whatever\" } }]\\'\\n\\n# Update a deployment\\'s replica count by patching its scale subresource\\nkubectl patch deployment nginx-deployment --subresource=\\'scale\\' --type=\\'merge\\' -p \\'{\"spec\":{\"replicas\":2}}\\'\\n```',\n",
       "   'filename': 'knowledge/kubernetes/website-main/content/en/docs/reference/kubectl/quick-reference.md',\n",
       "   'chunk': '11/23',\n",
       "   'subchunk': '1/1'},\n",
       "  0.6640625),\n",
       " ({'content': '# If a taint with that key and effect already exists, its value is replaced as specified.\\nkubectl taint nodes foo dedicated=special-user:NoSchedule\\n```  \\n### Resource types  \\nList all supported resource types along with their shortnames, [API group](/docs/concepts/overview/kubernetes-api/#api-groups-and-versioning), whether they are [namespaced](/docs/concepts/overview/working-with-objects/namespaces), and [kind](/docs/concepts/overview/working-with-objects/):  \\n```bash\\nkubectl api-resources\\n```  \\nOther operations for exploring API resources:  \\n```bash\\nkubectl api-resources --namespaced=true      # All namespaced resources\\nkubectl api-resources --namespaced=false     # All non-namespaced resources\\nkubectl api-resources -o name                # All resources with simple output (only the resource name)\\nkubectl api-resources -o wide                # All resources with expanded (aka \"wide\") output\\nkubectl api-resources --verbs=list,get       # All resources that support the \"list\" and \"get\" request verbs\\nkubectl api-resources --api-group=extensions # All resources in the \"extensions\" API group\\n```  \\n### Formatting output  \\nTo output details to your terminal window in a specific format, add the `-o` (or `--output`) flag to a supported `kubectl` command.  \\nOutput format | Description\\n--------------| -----------\\n`-o=custom-columns=<spec>` | Print a table using a comma separated list of custom columns\\n`-o=custom-columns-file=<filename>` | Print a table using the custom columns template in the `<filename>` file\\n`-o=go-template=<template>`     | Print the fields defined in a [golang template](https://pkg.go.dev/text/template)\\n`-o=go-template-file=<filename>` | Print the fields defined by the [golang template](https://pkg.go.dev/text/template) in the `<filename>` file\\n`-o=json`     | Output a JSON formatted API object\\n`-o=jsonpath=<template>` | Print the fields defined in a [jsonpath](/docs/reference/kubectl/jsonpath) expression',\n",
       "   'chunk': '20/23',\n",
       "   'subchunk': '2/4',\n",
       "   'filename': 'knowledge/kubernetes/website-main/content/en/docs/reference/kubectl/quick-reference.md'},\n",
       "  0.6640625),\n",
       " ({'content': \"## Interacting with Nodes and cluster  \\n```bash\\nkubectl cordon my-node                                                # Mark my-node as unschedulable\\nkubectl drain my-node                                                 # Drain my-node in preparation for maintenance\\nkubectl uncordon my-node                                              # Mark my-node as schedulable\\nkubectl top node                                                      # Show metrics for all nodes\\nkubectl top node my-node                                              # Show metrics for a given node\\nkubectl cluster-info                                                  # Display addresses of the master and services\\nkubectl cluster-info dump                                             # Dump current cluster state to stdout\\nkubectl cluster-info dump --output-directory=/path/to/cluster-state   # Dump current cluster state to /path/to/cluster-state\\n\\n# View existing taints on which exist on current nodes.\\nkubectl get nodes -o='custom-columns=NodeName:.metadata.name,TaintKey:.spec.taints[*].key,TaintValue:.spec.taints[*].value,TaintEffect:.spec.taints[*].effect'\",\n",
       "   'filename': 'knowledge/kubernetes/website-main/content/en/docs/reference/kubectl/quick-reference.md',\n",
       "   'chunk': '19/23',\n",
       "   'subchunk': '1/4'},\n",
       "  0.6640625),\n",
       " ({'content': '## Kubectl context and configuration  \\nSet which Kubernetes cluster `kubectl` communicates with and modifies configuration\\ninformation. See [Authenticating Across Clusters with kubeconfig](/docs/tasks/access-application-cluster/configure-access-multiple-clusters/) documentation for\\ndetailed config file information.  \\n```bash\\nkubectl config view # Show Merged kubeconfig settings.\\n\\n# use multiple kubeconfig files at the same time and view merged config\\nKUBECONFIG=~/.kube/config:~/.kube/kubconfig2\\n\\nkubectl config view\\n\\n# Show merged kubeconfig settings and raw certificate data and exposed secrets\\nkubectl config view --raw\\n\\n# get the password for the e2e user\\nkubectl config view -o jsonpath=\\'{.users[?(@.name == \"e2e\")].user.password}\\'\\n\\n# get the certificate for the e2e user\\nkubectl config view --raw -o jsonpath=\\'{.users[?(.name == \"e2e\")].user.client-certificate-data}\\' | base64 -d\\n\\nkubectl config view -o jsonpath=\\'{.users[].name}\\'    # display the first user\\nkubectl config view -o jsonpath=\\'{.users[*].name}\\'   # get a list of users\\nkubectl config get-contexts                          # display list of contexts\\nkubectl config get-contexts -o name                  # get all context names\\nkubectl config current-context                       # display the current-context\\nkubectl config use-context my-cluster-name           # set the default context to my-cluster-name\\n\\nkubectl config set-cluster my-cluster-name           # set a cluster entry in the kubeconfig\\n\\n# configure the URL to a proxy server to use for requests made by this client in the kubeconfig\\nkubectl config set-cluster my-cluster-name --proxy-url=my-proxy-url\\n\\n# add a new user to your kubeconf that supports basic auth\\nkubectl config set-credentials kubeuser/foo.kubernetes.com --username=kubeuser --password=kubepassword\\n\\n# permanently save the namespace for all subsequent kubectl commands in that context.\\nkubectl config set-context --current --namespace=ggckad-s2',\n",
       "   'filename': 'knowledge/kubernetes/website-main/content/en/docs/reference/kubectl/quick-reference.md',\n",
       "   'chunk': '3/23',\n",
       "   'subchunk': '1/2'},\n",
       "  0.65234375),\n",
       " ({'content': '## Interacting with Deployments and Services\\n```bash\\nkubectl logs deploy/my-deployment                         # dump Pod logs for a Deployment (single-container case)\\nkubectl logs deploy/my-deployment -c my-container         # dump Pod logs for a Deployment (multi-container case)\\n\\nkubectl port-forward svc/my-service 5000                  # listen on local port 5000 and forward to port 5000 on Service backend\\nkubectl port-forward svc/my-service 5000:my-service-port  # listen on local port 5000 and forward to Service target port with name <my-service-port>\\n\\nkubectl port-forward deploy/my-deployment 5000:6000       # listen on local port 5000 and forward to port 6000 on a Pod created by <my-deployment>\\nkubectl exec deploy/my-deployment -- ls                   # run command in first Pod and first container in Deployment (single- or multi-container cases)\\n```',\n",
       "   'filename': 'knowledge/kubernetes/website-main/content/en/docs/reference/kubectl/quick-reference.md',\n",
       "   'chunk': '18/23',\n",
       "   'subchunk': '1/1'},\n",
       "  0.64453125),\n",
       " ({'content': '## Deleting resources  \\n```bash\\nkubectl delete -f ./pod.json                                      # Delete a pod using the type and name specified in pod.json\\nkubectl delete pod unwanted --now                                 # Delete a pod with no grace period\\nkubectl delete pod,service baz foo                                # Delete pods and services with same names \"baz\" and \"foo\"\\nkubectl delete pods,services -l name=myLabel                      # Delete pods and services with label name=myLabel\\nkubectl -n my-ns delete pod,svc --all                             # Delete all pods and services in namespace my-ns,\\n# Delete all pods matching the awk pattern1 or pattern2\\nkubectl get pods  -n mynamespace --no-headers=true | awk \\'/pattern1|pattern2/{print $1}\\' | xargs  kubectl delete -n mynamespace pod\\n```',\n",
       "   'subchunk': '1/1',\n",
       "   'filename': 'knowledge/kubernetes/website-main/content/en/docs/reference/kubectl/quick-reference.md',\n",
       "   'chunk': '14/23'},\n",
       "  0.640625),\n",
       " ({'content': '## Viewing and finding resources  \\n```bash\\n# Get commands with basic output\\nkubectl get services                          # List all services in the namespace\\nkubectl get pods --all-namespaces             # List all pods in all namespaces\\nkubectl get pods -o wide                      # List all pods in the current namespace, with more details\\nkubectl get deployment my-dep                 # List a particular deployment\\nkubectl get pods                              # List all pods in the namespace\\nkubectl get pod my-pod -o yaml                # Get a pod\\'s YAML\\n\\n# Describe commands with verbose output\\nkubectl describe nodes my-node\\nkubectl describe pods my-pod\\n\\n# List Services Sorted by Name\\nkubectl get services --sort-by=.metadata.name\\n\\n# List pods Sorted by Restart Count\\nkubectl get pods --sort-by=\\'.status.containerStatuses[0].restartCount\\'\\n\\n# List PersistentVolumes sorted by capacity\\nkubectl get pv --sort-by=.spec.capacity.storage\\n\\n# Get the version label of all pods with label app=cassandra\\nkubectl get pods --selector=app=cassandra -o \\\\\\njsonpath=\\'{.items[*].metadata.labels.version}\\'\\n\\n# Retrieve the value of a key with dots, e.g. \\'ca.crt\\'\\nkubectl get configmap myconfig \\\\\\n-o jsonpath=\\'{.data.ca\\\\.crt}\\'\\n\\n# Retrieve a base64 encoded value with dashes instead of underscores.\\nkubectl get secret my-secret --template=\\'{{index .data \"key-name-with-dashes\"}}\\'\\n\\n# Get all worker nodes (use a selector to exclude results that have a label\\n# named \\'node-role.kubernetes.io/control-plane\\')\\nkubectl get node --selector=\\'!node-role.kubernetes.io/control-plane\\'\\n\\n# Get all running pods in the namespace\\nkubectl get pods --field-selector=status.phase=Running\\n\\n# Get ExternalIPs of all nodes\\nkubectl get nodes -o jsonpath=\\'{.items[*].status.addresses[?(@.type==\"ExternalIP\")].address}\\'',\n",
       "   'subchunk': '1/3',\n",
       "   'filename': 'knowledge/kubernetes/website-main/content/en/docs/reference/kubectl/quick-reference.md',\n",
       "   'chunk': '7/23'},\n",
       "  0.63671875),\n",
       " ({'content': '## {{% heading \"whatsnext\" %}}  \\n* Read the [kubectl overview](/docs/reference/kubectl/) and learn about [JsonPath](/docs/reference/kubectl/jsonpath).  \\n* See [kubectl](/docs/reference/kubectl/kubectl/) options.  \\n* Also read [kubectl Usage Conventions](/docs/reference/kubectl/conventions/) to understand how to use kubectl in reusable scripts.  \\n* See more community [kubectl cheatsheets](https://github.com/dennyzhang/cheatsheet-kubernetes-A4).',\n",
       "   'chunk': '23/23',\n",
       "   'subchunk': '1/1',\n",
       "   'filename': 'knowledge/kubernetes/website-main/content/en/docs/reference/kubectl/quick-reference.md'},\n",
       "  0.63671875),\n",
       " ({'content': '## Interacting with running Pods  \\n```bash\\nkubectl logs my-pod                                 # dump pod logs (stdout)\\nkubectl logs -l name=myLabel                        # dump pod logs, with label name=myLabel (stdout)\\nkubectl logs my-pod --previous                      # dump pod logs (stdout) for a previous instantiation of a container\\nkubectl logs my-pod -c my-container                 # dump pod container logs (stdout, multi-container case)\\nkubectl logs -l name=myLabel -c my-container        # dump pod container logs, with label name=myLabel (stdout)\\nkubectl logs my-pod -c my-container --previous      # dump pod container logs (stdout, multi-container case) for a previous instantiation of a container\\nkubectl logs -f my-pod                              # stream pod logs (stdout)\\nkubectl logs -f my-pod -c my-container              # stream pod container logs (stdout, multi-container case)\\nkubectl logs -f -l name=myLabel --all-containers    # stream all pods logs with label name=myLabel (stdout)\\nkubectl run -i --tty busybox --image=busybox:1.28 -- sh  # Run pod as interactive shell\\nkubectl run nginx --image=nginx -n mynamespace      # Start a single instance of nginx pod in the namespace of mynamespace\\nkubectl run nginx --image=nginx --dry-run=client -o yaml > pod.yaml\\n# Generate spec for running pod nginx and write it into a file called pod.yaml\\nkubectl attach my-pod -i                            # Attach to Running Container\\nkubectl port-forward my-pod 5000:6000               # Listen on port 5000 on the local machine and forward to port 6000 on my-pod\\nkubectl exec my-pod -- ls /                         # Run command in existing pod (1 container case)\\nkubectl exec --stdin --tty my-pod -- /bin/sh        # Interactive shell access to a running pod (1 container case)\\nkubectl exec my-pod -c my-container -- ls /         # Run command in existing pod (multi-container case)\\nkubectl debug my-pod -it --image=busybox:1.28       # Create an interactive debugging session within existing pod and immediately attach to it',\n",
       "   'subchunk': '1/2',\n",
       "   'filename': 'knowledge/kubernetes/website-main/content/en/docs/reference/kubectl/quick-reference.md',\n",
       "   'chunk': '15/23'},\n",
       "  0.63671875),\n",
       " ({'content': '## Updating resources  \\n```bash\\nkubectl set image deployment/frontend www=image:v2               # Rolling update \"www\" containers of \"frontend\" deployment, updating the image\\nkubectl rollout history deployment/frontend                      # Check the history of deployments including the revision\\nkubectl rollout undo deployment/frontend                         # Rollback to the previous deployment\\nkubectl rollout undo deployment/frontend --to-revision=2         # Rollback to a specific revision\\nkubectl rollout status -w deployment/frontend                    # Watch rolling update status of \"frontend\" deployment until completion\\nkubectl rollout restart deployment/frontend                      # Rolling restart of the \"frontend\" deployment\\n\\n\\ncat pod.json | kubectl replace -f -                              # Replace a pod based on the JSON passed into stdin\\n\\n# Force replace, delete and then re-create the resource. Will cause a service outage.\\nkubectl replace --force -f ./pod.json\\n\\n# Create a service for a replicated nginx, which serves on port 80 and connects to the containers on port 8000\\nkubectl expose rc nginx --port=80 --target-port=8000\\n\\n# Update a single-container pod\\'s image version (tag) to v4\\nkubectl get pod mypod -o yaml | sed \\'s/\\\\(image: myimage\\\\):.*$/\\\\1:v4/\\' | kubectl replace -f -\\n\\nkubectl label pods my-pod new-label=awesome                      # Add a Label\\nkubectl label pods my-pod new-label-                             # Remove a label\\nkubectl label pods my-pod new-label=new-value --overwrite        # Overwrite an existing value\\nkubectl annotate pods my-pod icon-url=http://goo.gl/XXBTWq       # Add an annotation\\nkubectl annotate pods my-pod icon-url-                           # Remove annotation\\nkubectl autoscale deployment foo --min=2 --max=10                # Auto scale a deployment \"foo\"\\n```',\n",
       "   'filename': 'knowledge/kubernetes/website-main/content/en/docs/reference/kubectl/quick-reference.md',\n",
       "   'chunk': '10/23',\n",
       "   'subchunk': '1/1'},\n",
       "  0.6328125),\n",
       " ({'content': '# List Names of Pods that belong to Particular RC\\n# \"jq\" command useful for transformations that are too complex for jsonpath, it can be found at https://jqlang.github.io/jq/\\nsel=${$(kubectl get rc my-rc --output=json | jq -j \\'.spec.selector | to_entries | .[] | \"\\\\(.key)=\\\\(.value),\"\\')%?}\\necho $(kubectl get pods --selector=$sel --output=jsonpath={.items..metadata.name})\\n\\n# Show labels for all pods (or any other Kubernetes object that supports labelling)\\nkubectl get pods --show-labels\\n\\n# Check which nodes are ready\\nJSONPATH=\\'{range .items[*]}{@.metadata.name}:{range @.status.conditions[*]}{@.type}={@.status};{end}{end}\\' \\\\\\n&& kubectl get nodes -o jsonpath=\"$JSONPATH\" | grep \"Ready=True\"\\n\\n# Check which nodes are ready with custom-columns\\nkubectl get node -o custom-columns=\\'NODE_NAME:.metadata.name,STATUS:.status.conditions[?(@.type==\"Ready\")].status\\'\\n\\n# Output decoded secrets without external tools\\nkubectl get secret my-secret -o go-template=\\'{{range $k,$v := .data}}{{\"### \"}}{{$k}}{{\"\\\\n\"}}{{$v|base64decode}}{{\"\\\\n\\\\n\"}}{{end}}\\'\\n\\n# List all Secrets currently in use by a pod\\nkubectl get pods -o json | jq \\'.items[].spec.containers[].env[]?.valueFrom.secretKeyRef.name\\' | grep -v null | sort | uniq\\n\\n# List all containerIDs of initContainer of all pods\\n# Helpful when cleaning up stopped containers, while avoiding removal of initContainers.\\nkubectl get pods --all-namespaces -o jsonpath=\\'{range .items[*].status.initContainerStatuses[*]}{.containerID}{\"\\\\n\"}{end}\\' | cut -d/ -f3\\n\\n# List Events sorted by timestamp\\nkubectl get events --sort-by=.metadata.creationTimestamp\\n\\n# List all warning events\\nkubectl events --types=Warning\\n\\n# Compares the current state of the cluster against the state that the cluster would be in if the manifest was applied.\\nkubectl diff -f ./my-manifest.yaml\\n\\n# Produce a period-delimited tree of all keys returned for nodes\\n# Helpful when locating a key within a complex nested JSON structure\\nkubectl get nodes -o json | jq -c \\'paths|join(\".\")\\'',\n",
       "   'chunk': '8/23',\n",
       "   'subchunk': '2/3',\n",
       "   'filename': 'knowledge/kubernetes/website-main/content/en/docs/reference/kubectl/quick-reference.md'},\n",
       "  0.625),\n",
       " ({'content': \"## Copying files and directories to and from containers  \\n```bash\\nkubectl cp /tmp/foo_dir my-pod:/tmp/bar_dir            # Copy /tmp/foo_dir local directory to /tmp/bar_dir in a remote pod in the current namespace\\nkubectl cp /tmp/foo my-pod:/tmp/bar -c my-container    # Copy /tmp/foo local file to /tmp/bar in a remote pod in a specific container\\nkubectl cp /tmp/foo my-namespace/my-pod:/tmp/bar       # Copy /tmp/foo local file to /tmp/bar in a remote pod in namespace my-namespace\\nkubectl cp my-namespace/my-pod:/tmp/foo /tmp/bar       # Copy /tmp/foo from a remote pod to /tmp/bar locally\\n```\\n{{< note >}}\\n`kubectl cp` requires that the 'tar' binary is present in your container image. If 'tar' is not present, `kubectl cp` will fail.\\nFor advanced use cases, such as symlinks, wildcard expansion or file mode preservation consider using `kubectl exec`.\\n{{< /note >}}  \\n```bash\\ntar cf - /tmp/foo | kubectl exec -i -n my-namespace my-pod -- tar xf - -C /tmp/bar           # Copy /tmp/foo local file to /tmp/bar in a remote pod in namespace my-namespace\\nkubectl exec -n my-namespace my-pod -- tar cf - /tmp/foo | tar xf - -C /tmp/bar    # Copy /tmp/foo from a remote pod to /tmp/bar locally\\n```\",\n",
       "   'filename': 'knowledge/kubernetes/website-main/content/en/docs/reference/kubectl/quick-reference.md',\n",
       "   'chunk': '17/23',\n",
       "   'subchunk': '1/1'},\n",
       "  0.625),\n",
       " ({'content': '## Scaling resources  \\n```bash\\nkubectl scale --replicas=3 rs/foo                                 # Scale a replicaset named \\'foo\\' to 3\\nkubectl scale --replicas=3 -f foo.yaml                            # Scale a resource specified in \"foo.yaml\" to 3\\nkubectl scale --current-replicas=2 --replicas=3 deployment/mysql  # If the deployment named mysql\\'s current size is 2, scale mysql to 3\\nkubectl scale --replicas=5 rc/foo rc/bar rc/baz                   # Scale multiple replication controllers\\n```',\n",
       "   'filename': 'knowledge/kubernetes/website-main/content/en/docs/reference/kubectl/quick-reference.md',\n",
       "   'chunk': '13/23',\n",
       "   'subchunk': '1/1'},\n",
       "  0.62109375),\n",
       " ({'content': '## Editing resources  \\nEdit any API resource in your preferred editor.  \\n```bash\\nkubectl edit svc/docker-registry                      # Edit the service named docker-registry\\nKUBE_EDITOR=\"nano\" kubectl edit svc/docker-registry   # Use an alternative editor\\n```',\n",
       "   'filename': 'knowledge/kubernetes/website-main/content/en/docs/reference/kubectl/quick-reference.md',\n",
       "   'chunk': '12/23',\n",
       "   'subchunk': '1/1'},\n",
       "  0.62109375),\n",
       " ({'content': '---\\ntitle: kubectl Quick Reference\\nreviewers:\\n- erictune\\n- krousey\\n- clove\\ncontent_type: concept\\nweight: 10 # highlight it\\ncard:\\nname: tasks\\nweight: 10\\n---  \\n<!-- overview -->  \\nThis page contains a list of commonly used `kubectl` commands and flags.  \\n{{< note >}}\\nThese instructions are for Kubernetes v{{< skew currentVersion >}}. To check the version, use the `kubectl version` command.\\n{{< /note >}}\\n<!-- body -->',\n",
       "   'filename': 'knowledge/kubernetes/website-main/content/en/docs/reference/kubectl/quick-reference.md',\n",
       "   'chunk': '1/23',\n",
       "   'subchunk': '1/1'},\n",
       "  0.61328125),\n",
       " ({'content': \"kubectl debug node/my-node -it --image=busybox:1.28 # Create an interactive debugging session on a node and immediately attach to it\\nkubectl top pod                                     # Show metrics for all pods in the default namespace\\nkubectl top pod POD_NAME --containers               # Show metrics for a given pod and its containers\\nkubectl top pod POD_NAME --sort-by=cpu              # Show metrics for a given pod and sort it by 'cpu' or 'memory'\\n```\",\n",
       "   'filename': 'knowledge/kubernetes/website-main/content/en/docs/reference/kubectl/quick-reference.md',\n",
       "   'chunk': '16/23',\n",
       "   'subchunk': '2/2'},\n",
       "  0.609375),\n",
       " ({'content': '## Kubectl autocomplete  \\n### BASH  \\n```bash\\nsource <(kubectl completion bash) # set up autocomplete in bash into the current shell, bash-completion package should be installed first.\\necho \"source <(kubectl completion bash)\" >> ~/.bashrc # add autocomplete permanently to your bash shell.\\n```  \\nYou can also use a shorthand alias for `kubectl` that also works with completion:  \\n```bash\\nalias k=kubectl\\ncomplete -o default -F __start_kubectl k\\n```  \\n### ZSH  \\n```bash\\nsource <(kubectl completion zsh)  # set up autocomplete in zsh into the current shell\\necho \\'[[ $commands[kubectl] ]] && source <(kubectl completion zsh)\\' >> ~/.zshrc # add autocomplete permanently to your zsh shell\\n```  \\n### FISH  \\n{{< note >}}\\nRequires kubectl version 1.23 or above.\\n{{< /note >}}  \\n```bash\\necho \\'kubectl completion fish | source\\' > ~/.config/fish/completions/kubectl.fish && source ~/.config/fish/completions/kubectl.fish\\n```  \\n### A note on `--all-namespaces`  \\nAppending `--all-namespaces` happens frequently enough that you should be aware of the shorthand for `--all-namespaces`:  \\n```kubectl -A```',\n",
       "   'subchunk': '1/1',\n",
       "   'filename': 'knowledge/kubernetes/website-main/content/en/docs/reference/kubectl/quick-reference.md',\n",
       "   'chunk': '2/23'},\n",
       "  0.60546875),\n",
       " ({'content': '# All images running in namespace: default, grouped by Pod\\nkubectl get pods --namespace default --output=custom-columns=\"NAME:.metadata.name,IMAGE:.spec.containers[*].image\"\\n\\n# All images excluding \"registry.k8s.io/coredns:1.6.2\"\\nkubectl get pods -A -o=custom-columns=\\'DATA:spec.containers[?(@.image!=\"registry.k8s.io/coredns:1.6.2\")].image\\'\\n\\n# All fields under metadata regardless of name\\nkubectl get pods -A -o=custom-columns=\\'DATA:metadata.*\\'\\n```  \\nMore examples in the kubectl [reference documentation](/docs/reference/kubectl/#custom-columns).  \\n### Kubectl output verbosity and debugging  \\nKubectl verbosity is controlled with the `-v` or `--v` flags followed by an integer representing the log level. General Kubernetes logging conventions and the associated log levels are described [here](https://github.com/kubernetes/community/blob/master/contributors/devel/sig-instrumentation/logging.md).  \\nVerbosity | Description\\n--------------| -----------\\n`--v=0` | Generally useful for this to *always* be visible to a cluster operator.\\n`--v=1` | A reasonable default log level if you don\\'t want verbosity.\\n`--v=2` | Useful steady state information about the service and important log messages that may correlate to significant changes in the system. This is the recommended default log level for most systems.\\n`--v=3` | Extended information about changes.\\n`--v=4` | Debug level verbosity.\\n`--v=5` | Trace level verbosity.\\n`--v=6` | Display requested resources.\\n`--v=7` | Display HTTP request headers.\\n`--v=8` | Display HTTP request contents.\\n`--v=9` | Display HTTP request contents without truncation of contents.',\n",
       "   'subchunk': '4/4',\n",
       "   'filename': 'knowledge/kubernetes/website-main/content/en/docs/reference/kubectl/quick-reference.md',\n",
       "   'chunk': '22/23'},\n",
       "  0.60546875),\n",
       " ({'content': '# set a context utilizing a specific username and namespace.\\nkubectl config set-context gce --user=cluster-admin --namespace=foo \\\\\\n&& kubectl config use-context gce\\n\\nkubectl config unset users.foo                       # delete user foo\\n\\n# short alias to set/show context/namespace (only works for bash and bash-compatible shells, current context to be set before using kn to set namespace)\\nalias kx=\\'f() { [ \"$1\" ] && kubectl config use-context $1 || kubectl config current-context ; } ; f\\'\\nalias kn=\\'f() { [ \"$1\" ] && kubectl config set-context --current --namespace $1 || kubectl config view --minify | grep namespace | cut -d\" \" -f6 ; } ; f\\'\\n```',\n",
       "   'filename': 'knowledge/kubernetes/website-main/content/en/docs/reference/kubectl/quick-reference.md',\n",
       "   'chunk': '4/23',\n",
       "   'subchunk': '2/2'},\n",
       "  0.6015625),\n",
       " ({'content': '## Kubectl apply  \\n`apply` manages applications through files defining Kubernetes resources. It creates and updates resources in a cluster through running `kubectl apply`. This is the recommended way of managing Kubernetes applications on production. See [Kubectl Book](https://kubectl.docs.kubernetes.io).',\n",
       "   'filename': 'knowledge/kubernetes/website-main/content/en/docs/reference/kubectl/quick-reference.md',\n",
       "   'chunk': '5/23',\n",
       "   'subchunk': '1/1'},\n",
       "  0.59765625),\n",
       " ({'content': '# Produce a period-delimited tree of all keys returned for pods, etc\\nkubectl get pods -o json | jq -c \\'paths|join(\".\")\\'\\n\\n# Produce ENV for all pods, assuming you have a default container for the pods, default namespace and the `env` command is supported.\\n# Helpful when running any supported command across all pods, not just `env`\\nfor pod in $(kubectl get po --output=jsonpath={.items..metadata.name}); do echo $pod && kubectl exec -it $pod -- env; done\\n\\n# Get a deployment\\'s status subresource\\nkubectl get deployment nginx-deployment --subresource=status\\n```',\n",
       "   'subchunk': '3/3',\n",
       "   'filename': 'knowledge/kubernetes/website-main/content/en/docs/reference/kubectl/quick-reference.md',\n",
       "   'chunk': '9/23'},\n",
       "  0.59375),\n",
       " ({'content': \"`-o=jsonpath-file=<filename>` | Print the fields defined by the [jsonpath](/docs/reference/kubectl/jsonpath) expression in the `<filename>` file\\n`-o=name`     | Print only the resource name and nothing else\\n`-o=wide`     | Output in the plain-text format with any additional information, and for pods, the node name is included\\n`-o=yaml`     | Output a YAML formatted API object  \\nExamples using `-o=custom-columns`:  \\n```bash\\n# All images running in a cluster\\nkubectl get pods -A -o=custom-columns='DATA:spec.containers[*].image'\",\n",
       "   'filename': 'knowledge/kubernetes/website-main/content/en/docs/reference/kubectl/quick-reference.md',\n",
       "   'chunk': '21/23',\n",
       "   'subchunk': '3/4'},\n",
       "  0.58203125)]"
      ]
     },
     "execution_count": 31,
     "metadata": {},
     "output_type": "execute_result"
    }
   ],
   "source": [
    "ranked_results = late_chunking_helper.re_rank(query=query, docs=rag_results)\n",
    "ranked_results"
   ]
  },
  {
   "cell_type": "code",
   "execution_count": null,
   "id": "e984994d",
   "metadata": {},
   "outputs": [
    {
     "name": "stderr",
     "output_type": "stream",
     "text": [
      "INFO:httpx:HTTP Request: GET http://127.0.0.1:8080/v1/meta \"HTTP/1.1 200 OK\"\n",
      "INFO:httpx:HTTP Request: GET https://pypi.org/pypi/weaviate-client/json \"HTTP/1.1 200 OK\"\n",
      "d:\\Python\\MasterIA\\TFM\\test_folder\\.venv\\lib\\site-packages\\weaviate\\warnings.py:314: ResourceWarning: Con004: The connection to Weaviate was not closed properly. This can lead to memory leaks.\n",
      "            Please make sure to close the connection using `client.close()`.\n",
      "  warnings.warn(\n"
     ]
    },
    {
     "data": {
      "text/plain": [
       "[Object(uuid=_WeaviateUUIDInt('5dd3f31c-5e73-4bdb-b099-e7fcf1eb1acb'), metadata=MetadataReturn(creation_time=None, last_update_time=None, distance=None, certainty=None, score=None, explain_score=None, is_consistent=None, rerank_score=None), properties={'content': '## {{% heading \"whatsnext\" %}}  \\n* Read the [kubectl overview](/docs/reference/kubectl/) and learn about [JsonPath](/docs/reference/kubectl/jsonpath).  \\n* See [kubectl](/docs/reference/kubectl/kubectl/) options.  \\n* Also read [kubectl Usage Conventions](/docs/reference/kubectl/conventions/) to understand how to use kubectl in reusable scripts.  \\n* See more community [kubectl cheatsheets](https://github.com/dennyzhang/cheatsheet-kubernetes-A4).', 'filename': 'knowledge/kubernetes/website-main/content/en/docs/reference/kubectl/quick-reference.md', 'chunk': '23/23', 'subchunk': '1/1'}, references=None, vector={}, collection='Test'),\n",
       " Object(uuid=_WeaviateUUIDInt('dc2a97aa-b075-49f4-a7ca-1efaeb886585'), metadata=MetadataReturn(creation_time=None, last_update_time=None, distance=None, certainty=None, score=None, explain_score=None, is_consistent=None, rerank_score=None), properties={'content': '## Kubectl autocomplete  \\n### BASH  \\n```bash\\nsource <(kubectl completion bash) # set up autocomplete in bash into the current shell, bash-completion package should be installed first.\\necho \"source <(kubectl completion bash)\" >> ~/.bashrc # add autocomplete permanently to your bash shell.\\n```  \\nYou can also use a shorthand alias for `kubectl` that also works with completion:  \\n```bash\\nalias k=kubectl\\ncomplete -o default -F __start_kubectl k\\n```  \\n### ZSH  \\n```bash\\nsource <(kubectl completion zsh)  # set up autocomplete in zsh into the current shell\\necho \\'[[ $commands[kubectl] ]] && source <(kubectl completion zsh)\\' >> ~/.zshrc # add autocomplete permanently to your zsh shell\\n```  \\n### FISH  \\n{{< note >}}\\nRequires kubectl version 1.23 or above.\\n{{< /note >}}  \\n```bash\\necho \\'kubectl completion fish | source\\' > ~/.config/fish/completions/kubectl.fish && source ~/.config/fish/completions/kubectl.fish\\n```  \\n### A note on `--all-namespaces`  \\nAppending `--all-namespaces` happens frequently enough that you should be aware of the shorthand for `--all-namespaces`:  \\n```kubectl -A```', 'filename': 'knowledge/kubernetes/website-main/content/en/docs/reference/kubectl/quick-reference.md', 'chunk': '2/23', 'subchunk': '1/1'}, references=None, vector={}, collection='Test'),\n",
       " Object(uuid=_WeaviateUUIDInt('7b17d2ce-0c4b-41a3-988d-66ce28ba9389'), metadata=MetadataReturn(creation_time=None, last_update_time=None, distance=None, certainty=None, score=None, explain_score=None, is_consistent=None, rerank_score=None), properties={'content': '# List Names of Pods that belong to Particular RC\\n# \"jq\" command useful for transformations that are too complex for jsonpath, it can be found at https://jqlang.github.io/jq/\\nsel=${$(kubectl get rc my-rc --output=json | jq -j \\'.spec.selector | to_entries | .[] | \"\\\\(.key)=\\\\(.value),\"\\')%?}\\necho $(kubectl get pods --selector=$sel --output=jsonpath={.items..metadata.name})\\n\\n# Show labels for all pods (or any other Kubernetes object that supports labelling)\\nkubectl get pods --show-labels\\n\\n# Check which nodes are ready\\nJSONPATH=\\'{range .items[*]}{@.metadata.name}:{range @.status.conditions[*]}{@.type}={@.status};{end}{end}\\' \\\\\\n&& kubectl get nodes -o jsonpath=\"$JSONPATH\" | grep \"Ready=True\"\\n\\n# Check which nodes are ready with custom-columns\\nkubectl get node -o custom-columns=\\'NODE_NAME:.metadata.name,STATUS:.status.conditions[?(@.type==\"Ready\")].status\\'\\n\\n# Output decoded secrets without external tools\\nkubectl get secret my-secret -o go-template=\\'{{range $k,$v := .data}}{{\"### \"}}{{$k}}{{\"\\\\n\"}}{{$v|base64decode}}{{\"\\\\n\\\\n\"}}{{end}}\\'\\n\\n# List all Secrets currently in use by a pod\\nkubectl get pods -o json | jq \\'.items[].spec.containers[].env[]?.valueFrom.secretKeyRef.name\\' | grep -v null | sort | uniq\\n\\n# List all containerIDs of initContainer of all pods\\n# Helpful when cleaning up stopped containers, while avoiding removal of initContainers.\\nkubectl get pods --all-namespaces -o jsonpath=\\'{range .items[*].status.initContainerStatuses[*]}{.containerID}{\"\\\\n\"}{end}\\' | cut -d/ -f3\\n\\n# List Events sorted by timestamp\\nkubectl get events --sort-by=.metadata.creationTimestamp\\n\\n# List all warning events\\nkubectl events --types=Warning\\n\\n# Compares the current state of the cluster against the state that the cluster would be in if the manifest was applied.\\nkubectl diff -f ./my-manifest.yaml\\n\\n# Produce a period-delimited tree of all keys returned for nodes\\n# Helpful when locating a key within a complex nested JSON structure\\nkubectl get nodes -o json | jq -c \\'paths|join(\".\")\\'', 'chunk': '8/23', 'subchunk': '2/3', 'filename': 'knowledge/kubernetes/website-main/content/en/docs/reference/kubectl/quick-reference.md'}, references=None, vector={}, collection='Test')]"
      ]
     },
     "execution_count": 9,
     "metadata": {},
     "output_type": "execute_result"
    }
   ],
   "source": [
    "from weaviate.classes.query import Filter\n",
    "\n",
    "with weaviate_helper.connect() as client:\n",
    "    collection = client.collections.get(name=\"test\")\n",
    "    response = collection.query.fetch_objects(\n",
    "    filters=Filter.by_property(\"filename\").like(\"*quick-reference.md*\"),\n",
    "    limit=3\n",
    ")\n",
    "response.objects"
   ]
  },
  {
   "cell_type": "code",
   "execution_count": null,
   "id": "34db1ab9",
   "metadata": {},
   "outputs": [],
   "source": []
  }
 ],
 "metadata": {
  "kernelspec": {
   "display_name": ".venv",
   "language": "python",
   "name": "python3"
  },
  "language_info": {
   "codemirror_mode": {
    "name": "ipython",
    "version": 3
   },
   "file_extension": ".py",
   "mimetype": "text/x-python",
   "name": "python",
   "nbconvert_exporter": "python",
   "pygments_lexer": "ipython3",
   "version": "3.10.11"
  }
 },
 "nbformat": 4,
 "nbformat_minor": 5
}
